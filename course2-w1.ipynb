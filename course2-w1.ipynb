{
 "cells": [
  {
   "cell_type": "markdown",
   "metadata": {},
   "source": [
    "1+1"
   ]
  },
  {
   "cell_type": "code",
   "execution_count": 2,
   "metadata": {},
   "outputs": [],
   "source": [
    "x=1"
   ]
  },
  {
   "cell_type": "markdown",
   "metadata": {},
   "source": [
    "test 1"
   ]
  },
  {
   "cell_type": "code",
   "execution_count": 9,
   "metadata": {},
   "outputs": [],
   "source": [
    "#test1"
   ]
  },
  {
   "cell_type": "code",
   "execution_count": 4,
   "metadata": {},
   "outputs": [],
   "source": [
    "import pandas as pd"
   ]
  },
  {
   "cell_type": "code",
   "execution_count": 5,
   "metadata": {},
   "outputs": [
    {
     "ename": "AttributeError",
     "evalue": "module 'pandas' has no attribute 'informe1_csv'",
     "output_type": "error",
     "traceback": [
      "\u001b[0;31m---------------------------------------------------------------------------\u001b[0m",
      "\u001b[0;31mAttributeError\u001b[0m                            Traceback (most recent call last)",
      "\u001b[0;32m<ipython-input-5-1498a36c7fa6>\u001b[0m in \u001b[0;36m<module>\u001b[0;34m\u001b[0m\n\u001b[0;32m----> 1\u001b[0;31m \u001b[0mdf\u001b[0m\u001b[0;34m=\u001b[0m\u001b[0mpd\u001b[0m\u001b[0;34m.\u001b[0m\u001b[0minforme1_csv\u001b[0m\u001b[0;34m(\u001b[0m\u001b[0;34m'informe-ppto-ano.csv'\u001b[0m\u001b[0;34m)\u001b[0m\u001b[0;34m\u001b[0m\u001b[0;34m\u001b[0m\u001b[0m\n\u001b[0m",
      "\u001b[0;31mAttributeError\u001b[0m: module 'pandas' has no attribute 'informe1_csv'"
     ]
    }
   ],
   "source": [
    "df=pd.informe1_csv('informe-ppto-ano.csv')"
   ]
  },
  {
   "cell_type": "code",
   "execution_count": 6,
   "metadata": {},
   "outputs": [],
   "source": [
    "df=pd.read_csv('informe-ppto-ano.csv')"
   ]
  },
  {
   "cell_type": "code",
   "execution_count": 7,
   "metadata": {},
   "outputs": [
    {
     "data": {
      "text/html": [
       "<div>\n",
       "<style scoped>\n",
       "    .dataframe tbody tr th:only-of-type {\n",
       "        vertical-align: middle;\n",
       "    }\n",
       "\n",
       "    .dataframe tbody tr th {\n",
       "        vertical-align: top;\n",
       "    }\n",
       "\n",
       "    .dataframe thead th {\n",
       "        text-align: right;\n",
       "    }\n",
       "</style>\n",
       "<table border=\"1\" class=\"dataframe\">\n",
       "  <thead>\n",
       "    <tr style=\"text-align: right;\">\n",
       "      <th></th>\n",
       "      <th>ORGANIZACION</th>\n",
       "      <th>DESC_ORGANIZACION</th>\n",
       "      <th>ESTADO</th>\n",
       "      <th>SALDO_INICIAL</th>\n",
       "      <th>ABONOS_CR</th>\n",
       "      <th>INGRESOS_CAJA</th>\n",
       "      <th>PRESUPUESTO_REITEM</th>\n",
       "      <th>SUPLEMENTOS</th>\n",
       "      <th>TRASP_PPTO_Y_DISPONIBILIDADES</th>\n",
       "      <th>TRASPASOS_SERVICIO</th>\n",
       "      <th>GASTO</th>\n",
       "      <th>ING_TOTAL</th>\n",
       "      <th>RETIRO_SALDOS</th>\n",
       "      <th>SALDO</th>\n",
       "    </tr>\n",
       "  </thead>\n",
       "  <tbody>\n",
       "    <tr>\n",
       "      <th>0</th>\n",
       "      <td>AC10FO</td>\n",
       "      <td>VIT FORA ACA</td>\n",
       "      <td>ACTIVA</td>\n",
       "      <td>13064749</td>\n",
       "      <td>0</td>\n",
       "      <td>0</td>\n",
       "      <td>0</td>\n",
       "      <td>0</td>\n",
       "      <td>0</td>\n",
       "      <td>0</td>\n",
       "      <td>0.0</td>\n",
       "      <td>0</td>\n",
       "      <td>0</td>\n",
       "      <td>13064749</td>\n",
       "    </tr>\n",
       "    <tr>\n",
       "      <th>1</th>\n",
       "      <td>AC10GE</td>\n",
       "      <td>VIT GESTION ACA</td>\n",
       "      <td>ACTIVA</td>\n",
       "      <td>0</td>\n",
       "      <td>0</td>\n",
       "      <td>0</td>\n",
       "      <td>20484000</td>\n",
       "      <td>0</td>\n",
       "      <td>-31950</td>\n",
       "      <td>-1332492</td>\n",
       "      <td>-15017742.0</td>\n",
       "      <td>0</td>\n",
       "      <td>0</td>\n",
       "      <td>4101816</td>\n",
       "    </tr>\n",
       "    <tr>\n",
       "      <th>2</th>\n",
       "      <td>AC10I1</td>\n",
       "      <td>VIT INGRESOS ING AVIACION COMERCIAL</td>\n",
       "      <td>ACTIVA</td>\n",
       "      <td>0</td>\n",
       "      <td>0</td>\n",
       "      <td>219573824</td>\n",
       "      <td>0</td>\n",
       "      <td>0</td>\n",
       "      <td>0</td>\n",
       "      <td>0</td>\n",
       "      <td>-55327880.0</td>\n",
       "      <td>219573824</td>\n",
       "      <td>0</td>\n",
       "      <td>164245944</td>\n",
       "    </tr>\n",
       "    <tr>\n",
       "      <th>3</th>\n",
       "      <td>AC10I2</td>\n",
       "      <td>VIT INGRESOS TU MANT AERONAUTICO</td>\n",
       "      <td>ACTIVA</td>\n",
       "      <td>0</td>\n",
       "      <td>0</td>\n",
       "      <td>150818557</td>\n",
       "      <td>0</td>\n",
       "      <td>0</td>\n",
       "      <td>0</td>\n",
       "      <td>0</td>\n",
       "      <td>-43335609.0</td>\n",
       "      <td>150818557</td>\n",
       "      <td>0</td>\n",
       "      <td>107482948</td>\n",
       "    </tr>\n",
       "    <tr>\n",
       "      <th>4</th>\n",
       "      <td>AC10I3</td>\n",
       "      <td>VIT INGRESOS PILOTO COMERCIAL</td>\n",
       "      <td>ACTIVA</td>\n",
       "      <td>0</td>\n",
       "      <td>0</td>\n",
       "      <td>29725917</td>\n",
       "      <td>0</td>\n",
       "      <td>0</td>\n",
       "      <td>0</td>\n",
       "      <td>0</td>\n",
       "      <td>-3805980.0</td>\n",
       "      <td>29725917</td>\n",
       "      <td>0</td>\n",
       "      <td>25919937</td>\n",
       "    </tr>\n",
       "  </tbody>\n",
       "</table>\n",
       "</div>"
      ],
      "text/plain": [
       "  ORGANIZACION                    DESC_ORGANIZACION  ESTADO  SALDO_INICIAL  \\\n",
       "0       AC10FO                         VIT FORA ACA  ACTIVA       13064749   \n",
       "1       AC10GE                      VIT GESTION ACA  ACTIVA              0   \n",
       "2       AC10I1  VIT INGRESOS ING AVIACION COMERCIAL  ACTIVA              0   \n",
       "3       AC10I2     VIT INGRESOS TU MANT AERONAUTICO  ACTIVA              0   \n",
       "4       AC10I3        VIT INGRESOS PILOTO COMERCIAL  ACTIVA              0   \n",
       "\n",
       "   ABONOS_CR  INGRESOS_CAJA  PRESUPUESTO_REITEM  SUPLEMENTOS  \\\n",
       "0          0              0                   0            0   \n",
       "1          0              0            20484000            0   \n",
       "2          0      219573824                   0            0   \n",
       "3          0      150818557                   0            0   \n",
       "4          0       29725917                   0            0   \n",
       "\n",
       "   TRASP_PPTO_Y_DISPONIBILIDADES  TRASPASOS_SERVICIO       GASTO  ING_TOTAL  \\\n",
       "0                              0                   0         0.0          0   \n",
       "1                         -31950            -1332492 -15017742.0          0   \n",
       "2                              0                   0 -55327880.0  219573824   \n",
       "3                              0                   0 -43335609.0  150818557   \n",
       "4                              0                   0  -3805980.0   29725917   \n",
       "\n",
       "   RETIRO_SALDOS      SALDO  \n",
       "0              0   13064749  \n",
       "1              0    4101816  \n",
       "2              0  164245944  \n",
       "3              0  107482948  \n",
       "4              0   25919937  "
      ]
     },
     "execution_count": 7,
     "metadata": {},
     "output_type": "execute_result"
    }
   ],
   "source": [
    "df.head()"
   ]
  },
  {
   "cell_type": "markdown",
   "metadata": {},
   "source": [
    " <a href=https://www.cognitiveclass.ai>Cognitive Class</a>"
   ]
  },
  {
   "cell_type": "markdown",
   "metadata": {},
   "source": [
    "#header 1"
   ]
  },
  {
   "cell_type": "markdown",
   "metadata": {},
   "source": [
    "# Header 1"
   ]
  },
  {
   "cell_type": "markdown",
   "metadata": {},
   "source": [
    "# header 2"
   ]
  },
  {
   "cell_type": "markdown",
   "metadata": {},
   "source": [
    "emphasis with *asterisco* or _underscores_."
   ]
  },
  {
   "cell_type": "markdown",
   "metadata": {},
   "source": [
    "tachar es con ~~colita~~"
   ]
  },
  {
   "cell_type": "markdown",
   "metadata": {},
   "source": [
    "use of **negrita**"
   ]
  },
  {
   "cell_type": "markdown",
   "metadata": {},
   "source": [
    "1. one seventy seven\n",
    "2. eleven two\n",
    "..* another type\n",
    "3. test 3\n",
    "* under\n",
    "...parrafos..\n",
    "..- minuses\n",
    "+ pluses\n",
    "\n"
   ]
  },
  {
   "cell_type": "markdown",
   "metadata": {},
   "source": [
    "[I'm an inline-style link with title](https://www.google.com \"Google's Homepage\") revisar link en marcadores de google (github)"
   ]
  },
  {
   "cell_type": "markdown",
   "metadata": {},
   "source": [
    "Here's a line for us to start with.\n",
    "\n",
    "This line is separated from the one above by two newlines, so it will be a *separate paragraph*."
   ]
  },
  {
   "cell_type": "markdown",
   "metadata": {},
   "source": [
    "# Hi there"
   ]
  },
  {
   "cell_type": "markdown",
   "metadata": {},
   "source": [
    "<h1>Hi there</h1> "
   ]
  },
  {
   "cell_type": "code",
   "execution_count": null,
   "metadata": {},
   "outputs": [],
   "source": []
  }
 ],
 "metadata": {
  "kernelspec": {
   "display_name": "Python",
   "language": "python",
   "name": "conda-env-python-py"
  },
  "language_info": {
   "codemirror_mode": {
    "name": "ipython",
    "version": 3
   },
   "file_extension": ".py",
   "mimetype": "text/x-python",
   "name": "python",
   "nbconvert_exporter": "python",
   "pygments_lexer": "ipython3",
   "version": "3.6.7"
  }
 },
 "nbformat": 4,
 "nbformat_minor": 4
}
