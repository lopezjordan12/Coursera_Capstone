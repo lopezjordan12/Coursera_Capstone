{
 "cells": [
  {
   "cell_type": "markdown",
   "metadata": {},
   "source": [
    "# Capstone Project IBM Data Science Specialization"
   ]
  },
  {
   "cell_type": "markdown",
   "metadata": {},
   "source": [
    "This notebook is used to solve the final project on the IBM Data Science Specialization. It's about Seattle car accident's database. The final goal is to predict the severity of an accident on the road."
   ]
  },
  {
   "cell_type": "code",
   "execution_count": 1,
   "metadata": {},
   "outputs": [],
   "source": [
    "#Importing libraries to analyze data.\n",
    "import pandas as pd\n",
    "import numpy as np"
   ]
  },
  {
   "cell_type": "code",
   "execution_count": 3,
   "metadata": {},
   "outputs": [],
   "source": [
    "df=pd.read_csv('Collisions-2.csv')"
   ]
  },
  {
   "cell_type": "code",
   "execution_count": 4,
   "metadata": {},
   "outputs": [
    {
     "data": {
      "text/html": [
       "<div>\n",
       "<style scoped>\n",
       "    .dataframe tbody tr th:only-of-type {\n",
       "        vertical-align: middle;\n",
       "    }\n",
       "\n",
       "    .dataframe tbody tr th {\n",
       "        vertical-align: top;\n",
       "    }\n",
       "\n",
       "    .dataframe thead th {\n",
       "        text-align: right;\n",
       "    }\n",
       "</style>\n",
       "<table border=\"1\" class=\"dataframe\">\n",
       "  <thead>\n",
       "    <tr style=\"text-align: right;\">\n",
       "      <th></th>\n",
       "      <th>X</th>\n",
       "      <th>Y</th>\n",
       "      <th>OBJECTID</th>\n",
       "      <th>INCKEY</th>\n",
       "      <th>COLDETKEY</th>\n",
       "      <th>REPORTNO</th>\n",
       "      <th>STATUS</th>\n",
       "      <th>ADDRTYPE</th>\n",
       "      <th>INTKEY</th>\n",
       "      <th>LOCATION</th>\n",
       "      <th>...</th>\n",
       "      <th>ROADCOND</th>\n",
       "      <th>LIGHTCOND</th>\n",
       "      <th>PEDROWNOTGRNT</th>\n",
       "      <th>SDOTCOLNUM</th>\n",
       "      <th>SPEEDING</th>\n",
       "      <th>ST_COLCODE</th>\n",
       "      <th>ST_COLDESC</th>\n",
       "      <th>SEGLANEKEY</th>\n",
       "      <th>CROSSWALKKEY</th>\n",
       "      <th>HITPARKEDCAR</th>\n",
       "    </tr>\n",
       "  </thead>\n",
       "  <tbody>\n",
       "    <tr>\n",
       "      <th>0</th>\n",
       "      <td>-122.386772</td>\n",
       "      <td>47.564720</td>\n",
       "      <td>1</td>\n",
       "      <td>326234</td>\n",
       "      <td>327734</td>\n",
       "      <td>E984735</td>\n",
       "      <td>Matched</td>\n",
       "      <td>Intersection</td>\n",
       "      <td>31893.0</td>\n",
       "      <td>CALIFORNIA AVE SW AND SW GENESEE ST</td>\n",
       "      <td>...</td>\n",
       "      <td>Dry</td>\n",
       "      <td>Daylight</td>\n",
       "      <td>Y</td>\n",
       "      <td>NaN</td>\n",
       "      <td>NaN</td>\n",
       "      <td>2</td>\n",
       "      <td>Vehicle turning left hits pedestrian</td>\n",
       "      <td>0</td>\n",
       "      <td>0</td>\n",
       "      <td>N</td>\n",
       "    </tr>\n",
       "    <tr>\n",
       "      <th>1</th>\n",
       "      <td>-122.341806</td>\n",
       "      <td>47.686934</td>\n",
       "      <td>2</td>\n",
       "      <td>326246</td>\n",
       "      <td>327746</td>\n",
       "      <td>E985430</td>\n",
       "      <td>Matched</td>\n",
       "      <td>Intersection</td>\n",
       "      <td>24228.0</td>\n",
       "      <td>STONE AVE N AND N 80TH ST</td>\n",
       "      <td>...</td>\n",
       "      <td>Wet</td>\n",
       "      <td>Dark - Street Lights On</td>\n",
       "      <td>NaN</td>\n",
       "      <td>NaN</td>\n",
       "      <td>NaN</td>\n",
       "      <td>10</td>\n",
       "      <td>Entering at angle</td>\n",
       "      <td>0</td>\n",
       "      <td>0</td>\n",
       "      <td>N</td>\n",
       "    </tr>\n",
       "    <tr>\n",
       "      <th>2</th>\n",
       "      <td>-122.374899</td>\n",
       "      <td>47.668666</td>\n",
       "      <td>3</td>\n",
       "      <td>329254</td>\n",
       "      <td>330754</td>\n",
       "      <td>EA16720</td>\n",
       "      <td>Matched</td>\n",
       "      <td>Block</td>\n",
       "      <td>NaN</td>\n",
       "      <td>NW MARKET ST BETWEEN 14TH AVE NW AND 15TH AVE NW</td>\n",
       "      <td>...</td>\n",
       "      <td>Dry</td>\n",
       "      <td>Daylight</td>\n",
       "      <td>NaN</td>\n",
       "      <td>NaN</td>\n",
       "      <td>NaN</td>\n",
       "      <td>11</td>\n",
       "      <td>From same direction - both going straight - bo...</td>\n",
       "      <td>0</td>\n",
       "      <td>0</td>\n",
       "      <td>N</td>\n",
       "    </tr>\n",
       "    <tr>\n",
       "      <th>3</th>\n",
       "      <td>-122.300758</td>\n",
       "      <td>47.683047</td>\n",
       "      <td>4</td>\n",
       "      <td>21200</td>\n",
       "      <td>21200</td>\n",
       "      <td>1227970</td>\n",
       "      <td>Matched</td>\n",
       "      <td>Intersection</td>\n",
       "      <td>24661.0</td>\n",
       "      <td>25TH AVE NE AND NE 75TH ST</td>\n",
       "      <td>...</td>\n",
       "      <td>Wet</td>\n",
       "      <td>Dark - Street Lights On</td>\n",
       "      <td>NaN</td>\n",
       "      <td>4160038.0</td>\n",
       "      <td>NaN</td>\n",
       "      <td>28</td>\n",
       "      <td>From opposite direction - one left turn - one ...</td>\n",
       "      <td>0</td>\n",
       "      <td>0</td>\n",
       "      <td>N</td>\n",
       "    </tr>\n",
       "    <tr>\n",
       "      <th>4</th>\n",
       "      <td>-122.313053</td>\n",
       "      <td>47.567241</td>\n",
       "      <td>5</td>\n",
       "      <td>17000</td>\n",
       "      <td>17000</td>\n",
       "      <td>1793348</td>\n",
       "      <td>Unmatched</td>\n",
       "      <td>Block</td>\n",
       "      <td>NaN</td>\n",
       "      <td>S DAKOTA ST BETWEEN 15TH AVE S AND 16TH AVE S</td>\n",
       "      <td>...</td>\n",
       "      <td>NaN</td>\n",
       "      <td>NaN</td>\n",
       "      <td>NaN</td>\n",
       "      <td>4289025.0</td>\n",
       "      <td>NaN</td>\n",
       "      <td>NaN</td>\n",
       "      <td>NaN</td>\n",
       "      <td>0</td>\n",
       "      <td>0</td>\n",
       "      <td>N</td>\n",
       "    </tr>\n",
       "  </tbody>\n",
       "</table>\n",
       "<p>5 rows × 40 columns</p>\n",
       "</div>"
      ],
      "text/plain": [
       "            X          Y  OBJECTID  INCKEY  COLDETKEY REPORTNO     STATUS  \\\n",
       "0 -122.386772  47.564720         1  326234     327734  E984735    Matched   \n",
       "1 -122.341806  47.686934         2  326246     327746  E985430    Matched   \n",
       "2 -122.374899  47.668666         3  329254     330754  EA16720    Matched   \n",
       "3 -122.300758  47.683047         4   21200      21200  1227970    Matched   \n",
       "4 -122.313053  47.567241         5   17000      17000  1793348  Unmatched   \n",
       "\n",
       "       ADDRTYPE   INTKEY                                          LOCATION  \\\n",
       "0  Intersection  31893.0               CALIFORNIA AVE SW AND SW GENESEE ST   \n",
       "1  Intersection  24228.0                         STONE AVE N AND N 80TH ST   \n",
       "2         Block      NaN  NW MARKET ST BETWEEN 14TH AVE NW AND 15TH AVE NW   \n",
       "3  Intersection  24661.0                        25TH AVE NE AND NE 75TH ST   \n",
       "4         Block      NaN     S DAKOTA ST BETWEEN 15TH AVE S AND 16TH AVE S   \n",
       "\n",
       "   ... ROADCOND                LIGHTCOND PEDROWNOTGRNT SDOTCOLNUM SPEEDING  \\\n",
       "0  ...      Dry                 Daylight             Y        NaN      NaN   \n",
       "1  ...      Wet  Dark - Street Lights On           NaN        NaN      NaN   \n",
       "2  ...      Dry                 Daylight           NaN        NaN      NaN   \n",
       "3  ...      Wet  Dark - Street Lights On           NaN  4160038.0      NaN   \n",
       "4  ...      NaN                      NaN           NaN  4289025.0      NaN   \n",
       "\n",
       "   ST_COLCODE                                         ST_COLDESC  SEGLANEKEY  \\\n",
       "0           2               Vehicle turning left hits pedestrian           0   \n",
       "1          10                                  Entering at angle           0   \n",
       "2          11  From same direction - both going straight - bo...           0   \n",
       "3          28  From opposite direction - one left turn - one ...           0   \n",
       "4         NaN                                                NaN           0   \n",
       "\n",
       "   CROSSWALKKEY  HITPARKEDCAR  \n",
       "0             0             N  \n",
       "1             0             N  \n",
       "2             0             N  \n",
       "3             0             N  \n",
       "4             0             N  \n",
       "\n",
       "[5 rows x 40 columns]"
      ]
     },
     "execution_count": 4,
     "metadata": {},
     "output_type": "execute_result"
    }
   ],
   "source": [
    "df.head()"
   ]
  },
  {
   "cell_type": "code",
   "execution_count": 5,
   "metadata": {},
   "outputs": [
    {
     "data": {
      "text/plain": [
       "(221266, 40)"
      ]
     },
     "execution_count": 5,
     "metadata": {},
     "output_type": "execute_result"
    }
   ],
   "source": [
    "df.shape"
   ]
  },
  {
   "cell_type": "code",
   "execution_count": 6,
   "metadata": {},
   "outputs": [
    {
     "data": {
      "text/plain": [
       "array(['Injury Collision', 'Property Damage Only Collision', 'Unknown',\n",
       "       'Fatality Collision', 'Serious Injury Collision'], dtype=object)"
      ]
     },
     "execution_count": 6,
     "metadata": {},
     "output_type": "execute_result"
    }
   ],
   "source": [
    "df.SEVERITYDESC.unique()"
   ]
  },
  {
   "cell_type": "code",
   "execution_count": null,
   "metadata": {},
   "outputs": [],
   "source": [
    "df.dtypes"
   ]
  },
  {
   "cell_type": "code",
   "execution_count": 7,
   "metadata": {},
   "outputs": [
    {
     "data": {
      "text/plain": [
       "Property Damage Only Collision    137485\n",
       "Injury Collision                   58698\n",
       "Unknown                            21636\n",
       "Serious Injury Collision            3098\n",
       "Fatality Collision                   349\n",
       "Name: SEVERITYDESC, dtype: int64"
      ]
     },
     "execution_count": 7,
     "metadata": {},
     "output_type": "execute_result"
    }
   ],
   "source": [
    "df.SEVERITYDESC.value_counts()"
   ]
  },
  {
   "cell_type": "code",
   "execution_count": null,
   "metadata": {},
   "outputs": [],
   "source": []
  }
 ],
 "metadata": {
  "kernelspec": {
   "display_name": "Python",
   "language": "python",
   "name": "conda-env-python-py"
  },
  "language_info": {
   "codemirror_mode": {
    "name": "ipython",
    "version": 3
   },
   "file_extension": ".py",
   "mimetype": "text/x-python",
   "name": "python",
   "nbconvert_exporter": "python",
   "pygments_lexer": "ipython3",
   "version": "3.6.11"
  }
 },
 "nbformat": 4,
 "nbformat_minor": 4
}
